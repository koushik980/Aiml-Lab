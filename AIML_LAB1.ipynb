{
  "nbformat": 4,
  "nbformat_minor": 0,
  "metadata": {
    "colab": {
      "provenance": [],
      "authorship_tag": "ABX9TyM/xa5ejoAFDO95+Fd1gWua",
      "include_colab_link": true
    },
    "kernelspec": {
      "name": "python3",
      "display_name": "Python 3"
    },
    "language_info": {
      "name": "python"
    }
  },
  "cells": [
    {
      "cell_type": "markdown",
      "metadata": {
        "id": "view-in-github",
        "colab_type": "text"
      },
      "source": [
        "<a href=\"https://colab.research.google.com/github/koushik980/Aiml-Lab/blob/main/AIML_LAB1.ipynb\" target=\"_parent\"><img src=\"https://colab.research.google.com/assets/colab-badge.svg\" alt=\"Open In Colab\"/></a>"
      ]
    },
    {
      "cell_type": "code",
      "execution_count": 2,
      "metadata": {
        "colab": {
          "base_uri": "https://localhost:8080/"
        },
        "id": "cFdFHinNFtEl",
        "outputId": "71fee902-60bd-4263-ab7c-63a7a4c426ae"
      },
      "outputs": [
        {
          "output_type": "stream",
          "name": "stdout",
          "text": [
            "p= [1, 2, 3, 4, 5]\n",
            "q= [10, 20, 30, 40, 50]\n",
            "Type of List-p <class 'list'>\n",
            "Type of List-q <class 'list'>\n",
            "[1 2 3 4 5]\n",
            "[10 20 30 40 50]\n",
            "Type of array1: <class 'numpy.ndarray'>\n",
            "Type of array2: <class 'numpy.ndarray'>\n",
            "Multiplication [ 10  40  90 160 250]\n",
            "Division [0.1 0.1 0.1 0.1 0.1]\n",
            "Poweroff [ 1  4  9 16 25]\n",
            "textoutput:- Addition of two arrays:[11 22 33 44 55]\n",
            "Sin value of array1: [ 0.84147098  0.90929743  0.14112001 -0.7568025  -0.95892427]\n",
            "log value of array1: [0.         0.69314718 1.09861229 1.38629436 1.60943791]\n",
            "log2 value of array1: [0.         1.         1.5849625  2.         2.32192809]\n",
            "Exponential value of array1: [  2.71828183   7.3890561   20.08553692  54.59815003 148.4131591 ]\n",
            "\n",
            "DataFrame with All Results:\n",
            "   Array1  Array2  Multiplication  Division  Power      Sine       Log  \\\n",
            "0       1      10              10       0.1      1  0.841471  0.000000   \n",
            "1       2      20              40       0.1      4  0.909297  0.693147   \n",
            "2       3      30              90       0.1      9  0.141120  1.098612   \n",
            "3       4      40             160       0.1     16 -0.756802  1.386294   \n",
            "4       5      50             250       0.1     25 -0.958924  1.609438   \n",
            "\n",
            "       Log2  Exponential  \n",
            "0  0.000000     2.718282  \n",
            "1  1.000000     7.389056  \n",
            "2  1.584963    20.085537  \n",
            "3  2.000000    54.598150  \n",
            "4  2.321928   148.413159  \n"
          ]
        }
      ],
      "source": [
        "import numpy as np\n",
        "import pandas as pd\n",
        "\n",
        "#1\n",
        "p = [1,2,3,4,5]\n",
        "q = [10,20,30,40,50]\n",
        "print(\"p=\",p)\n",
        "print(\"q=\",q)\n",
        "print(\"Type of List-p\",type(p))\n",
        "print(\"Type of List-q\",type(q))\n",
        "\n",
        "#2\n",
        "array1 = np.array(p)\n",
        "print(array1)\n",
        "array2 = np.array(q)\n",
        "print(array2)\n",
        "\n",
        "#3\n",
        "print(\"Type of array1:\",type(array1))\n",
        "print(\"Type of array2:\",type(array2))\n",
        "\n",
        "#4\n",
        "mul=array1 * array2\n",
        "div=array1 / array2\n",
        "poweroff = np.power(array1, 2)\n",
        "print(\"Multiplication\",mul)\n",
        "print(\"Division\",div)\n",
        "print(\"Poweroff\",poweroff)\n",
        "\n",
        "#5\n",
        "textoutput=f\"Addition of two arrays:{array1+array2}\"\n",
        "print(\"textoutput:-\",textoutput)\n",
        "\n",
        "#6\n",
        "print(\"Sin value of array1:\",np.sin(array1))\n",
        "print(\"log value of array1:\",np.log(array1))\n",
        "print(\"log2 value of array1:\",np.log2(array1))\n",
        "print(\"Exponential value of array1:\",np.exp(array1))\n",
        "df = pd.DataFrame({\n",
        "    'Array1': array1,\n",
        "    'Array2': array2,\n",
        "    'Multiplication': mul,\n",
        "    'Division': div,\n",
        "    'Power': poweroff,\n",
        "    'Sine': np.sin(array1),\n",
        "    'Log': np.log(array1),\n",
        "    'Log2': np.log2(array1),\n",
        "    'Exponential': np.exp(array1)\n",
        "})\n",
        "\n",
        "print(\"\\nDataFrame with All Results:\")\n",
        "print(df)"
      ]
    }
  ]
}